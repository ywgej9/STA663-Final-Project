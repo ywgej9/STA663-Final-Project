{
 "cells": [
  {
   "cell_type": "markdown",
   "metadata": {},
   "source": [
    "# Final Project (30%)\n",
    "\n",
    "For the final project, you will need to implement a \"new\" statistical algorithm in Python from the research literature and write a \"paper\" describing the algorithm. \n",
    "\n",
    "Deadline 2nd May 2018 at 11:59 PM\n",
    "\n",
    "Note: 1 bonus point for each day that it is submitted before the deadline. The actual project has a maximum grade of 100, but bonus points can push it above 100.\n",
    "\n",
    "## Paper\n",
    "\n",
    "The paper should have the following:\n",
    "\n",
    "### Title\n",
    "\n",
    "Should be consise and informative.\n",
    "\n",
    "### Abstract\n",
    "\n",
    "250 words or less. Identify 4-6 key phrases.\n",
    "\n",
    "### Background\n",
    "\n",
    "State the research paper you are using. Describe the concept of the algorithm and why it is interesting and/or useful. If appropriate, describe the mathematical basis of the algorithm. Some potential topics for the backgorund include:\n",
    "\n",
    "- What problem does it address? \n",
    "- What are known and possible applications of the algorithm? \n",
    "- What are its advantages and disadvantages relative to other algorithms?\n",
    "- How will you use it in your research?\n",
    "\n",
    "### Description of algorithm\n",
    "\n",
    "First, explain in plain English what the algorithm does. Then describes the details of the algorihtm, using mathematical equations or pseudocode as appropriate. \n",
    "\n",
    "### Describe optimization for performance\n",
    "\n",
    "First implement the algorithm using plain Python in a straightforward way from the description of the algorihtm. Then profile and optimize it using one or more apporpiate mathods, such as:\n",
    "\n",
    "1. Use of better algorithms or data structures\n",
    "2. Use of vectorization\n",
    "3. JIT or AOT compilation of critical functions\n",
    "4. Re-writing critical functions in C++ and using pybind11 to wrap them\n",
    "5. Making use of parallelism or concurrency\n",
    "6. Making use of distributed compuitng\n",
    "\n",
    "Document the improvemnt in performance with the optimizations performed.\n",
    "\n",
    "### Applications to simulated data sets\n",
    "\n",
    "Are there specific inputs that give known outuputs (e.g. there might be closed form solutions for special input cases)? How does the algorithm perform on these? \n",
    "\n",
    "If no such input cases are available (or in addition to such input cases), how does the algorithm perform on simulated data sets for which you know the \"truth\"? \n",
    "\n",
    "### Applications to real data sets\n",
    "\n",
    "Test the algorithm on the real-world examples in the orignal paper if possible. Try to find at least one other real-world data set not in the original paper and test it on that. Describe and interpret the results.\n",
    "\n",
    "### Comparative analysis with competing algorihtms\n",
    "\n",
    "Find two other algorihtms that addresss a similar problem. Perform a comparison - for example, of accurary or speed. You can use native libraires of the other algorithms - you do not need to code them yourself. Comment on your observations. \n",
    "\n",
    "### Discussion/conclusion\n",
    "\n",
    "Your thoughts on the algorithm. Does it fulfill a particular need? How could it be generalized to other problem domains? What are its limiations and how could it be improved further?\n",
    "\n",
    "### References/bibliography\n",
    "\n",
    "Make sure you cite your sources.\n",
    "\n",
    "## Code\n",
    "\n",
    "The code should be in a public GitHub repository with:\n",
    "\n",
    "1. A README file\n",
    "2. An open source license\n",
    "3. Source code\n",
    "4. Test code\n",
    "5. Examples\n",
    "6. A reproducible report\n",
    "\n",
    "The package should be downloadable and installable with `python setup.py install`, or even posted to PyPI adn installable with `pip install package`.\n",
    "\n",
    "\n",
    "## Rubric\n",
    "\n",
    "Each item is worth 10 points, but some sections will give up to 10 bonus points if done really well. Note that the \"difficulty factor\" of the chosen algorithm will be factored into the grading. \n",
    "\n",
    "1. Is the abstract, background and discussion readable and clear? (10-20 points)\n",
    "2. Is the algorithm description clear and accurate? (10-20 points)\n",
    "3. Has the algorihtm been optimized? (10-20 points)\n",
    "4. Are the applicaitons to simulated/real data clear and useful? (10-20 points)\n",
    "5. Was the comarative analysis done well? (10-20 points points)\n",
    "6. Is there a well-maitnatined Github repository for the code? (10 points)\n",
    "7. Is the document show evidenc of literate programming? (10 points)\n",
    "8. Is the analyiss reproducible? (10 points)\n",
    "9. Is the code tested? Are examples provided? (10 points)\n",
    "10. Is the package easily installable? (10 points)\n",
    "\n"
   ]
  },
  {
   "cell_type": "code",
   "execution_count": 23,
   "metadata": {},
   "outputs": [],
   "source": [
    "import numpy as np\n",
    "import pandas as pd\n",
    "import scipy.stats\n",
    "import scipy.linalg\n",
    "from sklearn import datasets, linear_model\n",
    "from sklearn.linear_model import LinearRegression\n",
    "import matplotlib.pyplot as plt\n",
    "import numba\n",
    "from numba import jit\n",
    "import seaborn as sns"
   ]
  },
  {
   "cell_type": "markdown",
   "metadata": {},
   "source": [
    "# The Code"
   ]
  },
  {
   "cell_type": "markdown",
   "metadata": {},
   "source": [
    "### Code for U, Gradient, H functions"
   ]
  },
  {
   "cell_type": "code",
   "execution_count": 24,
   "metadata": {},
   "outputs": [],
   "source": [
    "def U(X, y, theta, theta_p, sig, sig_p):\n",
    "    \"\"\"Compute likelihood function U with vector\"\"\"\n",
    "    return - sum(np.log(scipy.stats.norm.pdf(y, X @ theta, sig))\n",
    "                 -np.log(scipy.stats.multivariate_normal.pdf(theta, mean = theta_p, cov = sig_p)))\n",
    "\n",
    "def grad_U(X, y, theta, theta_p, sig, sig_p_inv):\n",
    "    return -(y - X @ theta).T @ np.eye(X.shape[0]) / (sig**2) @ X + ((theta-theta_p).reshape(-1, 1).T@sig_p_inv).flatten()\n",
    "\n",
    "def H(X, y, theta, sig, r ,U, M_inv, theta_p, sig_p_inv):\n",
    "    '''Hamiltonian function of total energy'''\n",
    "    return U(X, y, theta, theta_p, sig, sig_p_inv) + 0.5 * r.T @ M_inv @ r"
   ]
  },
  {
   "cell_type": "markdown",
   "metadata": {},
   "source": [
    "### Hamiltonian Monte Carlo"
   ]
  },
  {
   "cell_type": "code",
   "execution_count": 33,
   "metadata": {},
   "outputs": [],
   "source": [
    "def hmc(X, y, theta_0, eps, niter, m, M, U, grad_U, sig, theta_p, sig_p):\n",
    "    \"\"\"Hamiltonian Monte Carlo\"\"\"\n",
    "    d = theta_0.shape[0]\n",
    "    Theta = np.empty((d, niter))\n",
    "    R = np.empty((d, niter))\n",
    "    M_inv = scipy.linalg.inv(M)\n",
    "    sig_p_inv = scipy.linalg.inv(sig_p)\n",
    "    theta = theta_0.copy()\n",
    "    a = 0\n",
    "    for i in range(niter):\n",
    "        r = np.random.multivariate_normal(np.zeros(d), M, 1).flatten()\n",
    "        theta_old = theta.copy()\n",
    "        r_old = r.copy()          \n",
    "        #discretize Hamiltonian dynamics\n",
    "        r -= eps / 2 * grad_U(X, y, theta, theta_p, sig, sig_p_inv)\n",
    "        for j in range(m):\n",
    "            theta += eps * M_inv @ r\n",
    "            r -= eps * grad_U(X, y, theta, theta_p, sig, sig_p_inv)\n",
    "        r -= eps / 2 * grad_U(X, y, theta, theta_p, sig, sig_p_inv)\n",
    "        #M-H correction\n",
    "        u = np.random.uniform(0, 1, 1)\n",
    "        rho = np.exp(H(X, y, theta, sig, r ,U, M_inv, theta_p, sig_p_inv) -\n",
    "                     H(X, y, theta_old, sig, r_old ,U, M_inv, theta_p, sig_p_inv))\n",
    "        if u < rho:\n",
    "            Theta[:,i] = theta\n",
    "            R[:,i] = r\n",
    "            a += 1\n",
    "        else:\n",
    "            Theta[:,i] = theta_old\n",
    "            R[:,i] = r_old\n",
    "        theta = Theta[:,i]        \n",
    "    return Theta, R, a"
   ]
  },
  {
   "cell_type": "markdown",
   "metadata": {},
   "source": [
    "### Stochastic gradient HMC"
   ]
  },
  {
   "cell_type": "code",
   "execution_count": 20,
   "metadata": {},
   "outputs": [],
   "source": [
    "def sghmc(X, y, theta_0, eps, niter, m, M, U, grad_U, sig, theta_p, sig_p, perc, C, B_hat):\n",
    "    \"\"\"Stochastic Gradient Hamiltonian Monte Carlo\"\"\"\n",
    "    # theta_0: the starting point\n",
    "    # eps: step length in solving the dynamic system\n",
    "    # niter: the number sampling\n",
    "    # m: the maximum number of steps to take for solving the Hamiltonian\n",
    "    # M: the mass matrix in the Hamiltonian\n",
    "    # perc: the percentage of minbatch size over total size\n",
    "    d = theta_0.shape[0]\n",
    "    batch_size = int(np.floor(X.shape[0] * perc))\n",
    "    Theta = np.empty((d, niter))\n",
    "    R = np.empty((d, niter))\n",
    "    M_inv_eps = scipy.linalg.inv(M) * eps\n",
    "    sig_p_inv = scipy.linalg.inv(sig_p)\n",
    "    theta = theta_0.copy()\n",
    "    M0 = C @ M_inv_eps\n",
    "    V = 2*eps*(C - B_hat)\n",
    "    for i in range(niter):\n",
    "        r = np.random.multivariate_normal(np.zeros(d), M, 1).flatten()      \n",
    "        for j in range(m):\n",
    "            theta += M_inv_eps @ r.flatten()           \n",
    "            idx = np.random.randint(batch_size, size = (batch_size,))\n",
    "            X0 = X[idx, ] #sample X\n",
    "            y0 = y[idx]\n",
    "            r = r - eps * grad_U(X0, y0, theta, theta_p, sig, sig_p_inv) - M0 @ r + np.random.multivariate_normal(np.zeros(d), V, 1).flatten()        \n",
    "        Theta[:,i] = theta\n",
    "        R[:,i] = r\n",
    "        \n",
    "    return Theta, R"
   ]
  },
  {
   "cell_type": "markdown",
   "metadata": {},
   "source": [
    "# Optimization"
   ]
  },
  {
   "cell_type": "markdown",
   "metadata": {},
   "source": [
    "### Using numba"
   ]
  },
  {
   "cell_type": "code",
   "execution_count": 26,
   "metadata": {},
   "outputs": [],
   "source": [
    "@jit\n",
    "def hmc_numba(X, y, theta_0, eps, niter, m, M, U, grad_U, sig, theta_p, sig_p):\n",
    "    \"\"\"Hamiltonian Monte Carlo\"\"\"\n",
    "    d = theta_0.shape[0]\n",
    "    Theta = np.empty((d, niter))\n",
    "    R = np.empty((d, niter))\n",
    "    M_inv = scipy.linalg.inv(M)\n",
    "    sig_p_inv = scipy.linalg.inv(sig_p)\n",
    "    theta = theta_0.copy()\n",
    "    a = 0\n",
    "    for i in range(niter):\n",
    "        r = np.random.multivariate_normal(np.zeros(d), M, 1).flatten()\n",
    "        theta_old = theta.copy()\n",
    "        r_old = r.copy()          \n",
    "        #discretize Hamiltonian dynamics\n",
    "        r -= eps / 2 * grad_U(X, y, theta, theta_p, sig, sig_p_inv)\n",
    "        for j in range(m):\n",
    "            theta += eps * M_inv @ r\n",
    "            r -= eps * grad_U(X, y, theta, theta_p, sig, sig_p_inv)\n",
    "        r -= eps / 2 * grad_U(X, y, theta, theta_p, sig, sig_p_inv)\n",
    "        #M-H correction\n",
    "        u = np.random.uniform(0, 1, 1)\n",
    "        rho = np.exp(H(X, y, theta, sig, r ,U, M_inv, theta_p, sig_p_inv) -\n",
    "                     H(X, y, theta_old, sig, r_old ,U, M_inv, theta_p, sig_p_inv))\n",
    "        if u < rho:\n",
    "            Theta[:,i] = theta\n",
    "            R[:,i] = r\n",
    "            a += 1\n",
    "        else:\n",
    "            Theta[:,i] = theta_old\n",
    "            R[:,i] = r_old\n",
    "        theta = Theta[:,i]        \n",
    "    return Theta, R, a"
   ]
  },
  {
   "cell_type": "markdown",
   "metadata": {},
   "source": [
    "# Application to Simulated Dataset"
   ]
  },
  {
   "cell_type": "code",
   "execution_count": 27,
   "metadata": {},
   "outputs": [],
   "source": [
    "# data simulation\n",
    "mu_1 = 0\n",
    "sigma_1 = 1\n",
    "mu_2 = 5\n",
    "sigma_2 = 3\n",
    "mu_3 = 7\n",
    "sigma_3 = 3\n",
    "n = 100\n",
    "x_1 = np.random.normal(mu_1, sigma_1, n)\n",
    "x_2 = np.random.normal(mu_2, sigma_2, n)\n",
    "x_3 = np.random.normal(mu_3, sigma_3, n)\n",
    "noise = np.random.normal(0, 5, n)\n",
    "b1 = 5\n",
    "b2 = 3\n",
    "b3 = -2\n",
    "\n",
    "y_sim = b1*x_1 + b2*x_2 + b3*x_3+noise\n",
    "X_sim = np.array([x_1, x_2, x_3]).T\n",
    "\n",
    "d = X_sim.shape[1]\n",
    "theta_0_sim = np.array([3.0, 2.0, -1.0])\n",
    "eps = 0.09\n",
    "niter = 10000\n",
    "M = np.eye(d)\n",
    "m = 3\n",
    "p_sim = 3\n",
    "sig_sim = 5\n",
    "sig_sim2 = sig_sim**2\n",
    "sig_p_sim = np.diag([10.0, 10.0, 10.0])\n",
    "theta_p_sim = np.array([0, 0, 0])\n",
    "Theta_sim, R_sim, a_sim = hmc(X_sim, y_sim, theta_0_sim, eps, niter, m, M, U, grad_U, sig_sim, theta_p_sim, sig_p_sim)"
   ]
  },
  {
   "cell_type": "code",
   "execution_count": 28,
   "metadata": {},
   "outputs": [],
   "source": [
    "## Analytic solution\n",
    "sig_p_sim_inv = scipy.linalg.inv(sig_p_sim)\n",
    "cov_sim_pos = scipy.linalg.inv(sig_p_sim_inv+X_sim.T@X_sim/sig_sim2)\n",
    "mu_sim_pos = cov_sim_pos@(sig_p_sim_inv@theta_0_sim+X_sim.T@y_sim/sig_sim2)"
   ]
  },
  {
   "cell_type": "code",
   "execution_count": 29,
   "metadata": {},
   "outputs": [],
   "source": [
    "d = X_sim.shape[1]\n",
    "theta_0_sim = np.array([3.0, 2.0, -1.0])\n",
    "eps = 0.09\n",
    "niter = 10000\n",
    "M = np.eye(d)\n",
    "m = 3\n",
    "p_sim = 3\n",
    "sig_sim = 5\n",
    "sig_sim2 = sig_sim**2\n",
    "sig_p_sim = np.diag([10.0, 10.0, 10.0])\n",
    "theta_p_sim = np.array([0, 0, 0])\n",
    "perc = 0.3\n",
    "B_hat = 0 # should be a matrix here\n",
    "C = np.eye(d)\n",
    "Theta_sghmc,_ = sghmc(X_sim, y_sim, theta_0_sim, eps, niter, m, M, U, grad_U, sig_sim, theta_p_sim, sig_p_sim, perc, C, B_hat)"
   ]
  },
  {
   "cell_type": "code",
   "execution_count": 34,
   "metadata": {},
   "outputs": [
    {
     "name": "stderr",
     "output_type": "stream",
     "text": [
      "/opt/conda/lib/python3.6/site-packages/matplotlib/axes/_axes.py:6462: UserWarning: The 'normed' kwarg is deprecated, and has been replaced by the 'density' kwarg.\n",
      "  warnings.warn(\"The 'normed' kwarg is deprecated, and has been \"\n"
     ]
    },
    {
     "data": {
      "image/png": "[encoded data removed]",
      "text/plain": [
       "<Figure size 432x288 with 1 Axes>"
      ]
     },
     "metadata": {},
     "output_type": "display_data"
    }
   ],
   "source": [
    "beta_sim_pos = np.random.multivariate_normal(mu_sim_pos, cov_sim_pos, 50000)\n",
    "sns.distplot(beta_sim_pos[:,1], label=\"Analytic\")\n",
    "sns.distplot(Theta_sim[1, :], label=\"HMC\")\n",
    "sns.distplot(Theta_sghmc[1, :], label=\"SGHMC\")\n",
    "plt.legend(labels=['Analytic', 'HMC', 'SGHMC'])\n",
    "plt.savefig(\"simulated_dist_plot\")\n",
    "pass"
   ]
  },
  {
   "cell_type": "markdown",
   "metadata": {},
   "source": [
    "# Application to Diabetes Dataset"
   ]
  },
  {
   "cell_type": "markdown",
   "metadata": {
    "collapsed": true
   },
   "source": [
    "### Setup the dataset"
   ]
  },
  {
   "cell_type": "code",
   "execution_count": 37,
   "metadata": {},
   "outputs": [
    {
     "data": {
      "text/html": [
       "<div>\n",
       "<style scoped>\n",
       "    .dataframe tbody tr th:only-of-type {\n",
       "        vertical-align: middle;\n",
       "    }\n",
       "\n",
       "    .dataframe tbody tr th {\n",
       "        vertical-align: top;\n",
       "    }\n",
       "\n",
       "    .dataframe thead th {\n",
       "        text-align: right;\n",
       "    }\n",
       "</style>\n",
       "<table border=\"1\" class=\"dataframe\">\n",
       "  <thead>\n",
       "    <tr style=\"text-align: right;\">\n",
       "      <th></th>\n",
       "      <th>age</th>\n",
       "      <th>sex</th>\n",
       "      <th>bmi</th>\n",
       "      <th>bp</th>\n",
       "    </tr>\n",
       "  </thead>\n",
       "  <tbody>\n",
       "    <tr>\n",
       "      <th>0</th>\n",
       "      <td>0.038076</td>\n",
       "      <td>0.050680</td>\n",
       "      <td>0.061696</td>\n",
       "      <td>0.021872</td>\n",
       "    </tr>\n",
       "    <tr>\n",
       "      <th>1</th>\n",
       "      <td>-0.001882</td>\n",
       "      <td>-0.044642</td>\n",
       "      <td>-0.051474</td>\n",
       "      <td>-0.026328</td>\n",
       "    </tr>\n",
       "    <tr>\n",
       "      <th>2</th>\n",
       "      <td>0.085299</td>\n",
       "      <td>0.050680</td>\n",
       "      <td>0.044451</td>\n",
       "      <td>-0.005671</td>\n",
       "    </tr>\n",
       "  </tbody>\n",
       "</table>\n",
       "</div>"
      ],
      "text/plain": [
       "        age       sex       bmi        bp\n",
       "0  0.038076  0.050680  0.061696  0.021872\n",
       "1 -0.001882 -0.044642 -0.051474 -0.026328\n",
       "2  0.085299  0.050680  0.044451 -0.005671"
      ]
     },
     "execution_count": 37,
     "metadata": {},
     "output_type": "execute_result"
    }
   ],
   "source": [
    "# Load the diabetes dataset\n",
    "d = datasets.load_diabetes()\n",
    "data = pd.DataFrame(data= np.c_[d['data']],\n",
    "                     columns= d['feature_names'])\n",
    "data = data.iloc[:, 0:4]\n",
    "data.iloc[0:3,:]"
   ]
  },
  {
   "cell_type": "code",
   "execution_count": 38,
   "metadata": {},
   "outputs": [],
   "source": [
    "# Load the diabetes dataset\n",
    "d = datasets.load_diabetes()\n",
    "X = d['data'][:,0:4]\n",
    "y = d['target']\n",
    "n, p = X.shape\n",
    "\n",
    "# Compute the OLS variance\n",
    "reg = LinearRegression().fit(X, y)\n",
    "y_hat = reg.predict(X)\n",
    "sig2 = sum((y - y_hat)**2)/(n - p)\n",
    "sig = np.sqrt(sig2)\n",
    "sig2 = sum((y-y_hat)**2)/(n-p)\n",
    "theta_p = reg.coef_\n",
    "sig_p = np.eye(p)*500"
   ]
  },
  {
   "cell_type": "markdown",
   "metadata": {},
   "source": [
    "### Test for HMC"
   ]
  },
  {
   "cell_type": "code",
   "execution_count": 56,
   "metadata": {},
   "outputs": [],
   "source": [
    "# test for HMC\n",
    "d = X.shape[1]\n",
    "theta_0 = reg.coef_.copy()\n",
    "eps = 0.01\n",
    "niter = 10000\n",
    "M = np.eye(d)\n",
    "m = 3"
   ]
  },
  {
   "cell_type": "code",
   "execution_count": 57,
   "metadata": {},
   "outputs": [],
   "source": [
    "Theta_hmc, R, a = hmc(X, y, theta_0, eps, niter, m, M, U, grad_U, sig, theta_p, sig_p)"
   ]
  },
  {
   "cell_type": "code",
   "execution_count": 106,
   "metadata": {},
   "outputs": [
    {
     "name": "stdout",
     "output_type": "stream",
     "text": [
      "5.64 s ± 298 ms per loop (mean ± std. dev. of 7 runs, 1 loop each)\n",
      "5.35 s ± 122 ms per loop (mean ± std. dev. of 7 runs, 1 loop each)\n"
     ]
    }
   ],
   "source": [
    "%timeit hmc(X, y, theta_0, eps, niter, m, M, U, grad_U, sig, theta_p, sig_p)\n",
    "%timeit hmc_numba(X, y, theta_0, eps, niter, m, M, U, grad_U, sig, theta_p, sig_p)"
   ]
  },
  {
   "cell_type": "markdown",
   "metadata": {},
   "source": [
    "### Test for SG-HMC"
   ]
  },
  {
   "cell_type": "code",
   "execution_count": 58,
   "metadata": {},
   "outputs": [],
   "source": [
    "eps = 1.5\n",
    "niter = 10000\n",
    "M = np.eye(d)\n",
    "m = 7\n",
    "perc = 0.5\n",
    "B_hat = 0 # should be a matrix here\n",
    "C = np.eye(d)*0.01"
   ]
  },
  {
   "cell_type": "code",
   "execution_count": 50,
   "metadata": {},
   "outputs": [],
   "source": [
    "Theta_sghmc, R= sghmc(X, y, theta_0, eps, niter, m, M, U, grad_U, sig, theta_p, sig_p, perc, C, B_hat)"
   ]
  },
  {
   "cell_type": "code",
   "execution_count": 59,
   "metadata": {},
   "outputs": [
    {
     "name": "stderr",
     "output_type": "stream",
     "text": [
      "/opt/conda/lib/python3.6/site-packages/matplotlib/axes/_axes.py:6462: UserWarning: The 'normed' kwarg is deprecated, and has been replaced by the 'density' kwarg.\n",
      "  warnings.warn(\"The 'normed' kwarg is deprecated, and has been \"\n"
     ]
    },
    {
     "data": {
      "image/png": "[encoded data removed]",
      "text/plain": [
       "<Figure size 432x288 with 1 Axes>"
      ]
     },
     "metadata": {},
     "output_type": "display_data"
    }
   ],
   "source": [
    "sig_p_hmc = scipy.linalg.inv(sig_p)\n",
    "cov_pos_hmc = scipy.linalg.inv(sig_p_hmc+X.T@X/sig2)\n",
    "mu_pos_hmc = cov_pos_hmc @ (sig_p_hmc@theta_0+X.T @ y/sig2)\n",
    "beta_pos_hmc = np.random.multivariate_normal(mu_pos_hmc, cov_pos_hmc, 50000)\n",
    "sns.distplot(beta_pos_hmc[:,1], label=\"Analytic\")\n",
    "sns.distplot(Theta_hmc[1, :], label=\"HMC\")\n",
    "sns.distplot(Theta_sghmc[1, :], label=\"SGHMC\")\n",
    "plt.legend(labels=['Analytic', 'HMC', 'SGHMC'])\n",
    "plt.savefig(\"real_plot\")\n",
    "pass"
   ]
  },
  {
   "cell_type": "code",
   "execution_count": 52,
   "metadata": {},
   "outputs": [
    {
     "name": "stderr",
     "output_type": "stream",
     "text": [
      "/opt/conda/lib/python3.6/site-packages/matplotlib/axes/_axes.py:6462: UserWarning: The 'normed' kwarg is deprecated, and has been replaced by the 'density' kwarg.\n",
      "  warnings.warn(\"The 'normed' kwarg is deprecated, and has been \"\n"
     ]
    },
    {
     "data": {
      "text/plain": [
       "<matplotlib.axes._subplots.AxesSubplot at 0x7f0247291c18>"
      ]
     },
     "execution_count": 52,
     "metadata": {},
     "output_type": "execute_result"
    },
    {
     "data": {
      "image/png": "[encoded data removed]",
      "text/plain": [
       "<Figure size 432x288 with 1 Axes>"
      ]
     },
     "metadata": {},
     "output_type": "display_data"
    }
   ],
   "source": [
    "sns.distplot(Theta_hmc[1,:])"
   ]
  },
  {
   "cell_type": "code",
   "execution_count": 54,
   "metadata": {},
   "outputs": [
    {
     "data": {
      "text/plain": [
       "array([-106.57753244, -106.57742535, -106.57781753, -106.57778464,\n",
       "       -106.57776942, -106.57805097, -106.57752971, -106.57697913,\n",
       "       -106.57645217, -106.57674897, -106.57679088, -106.57691184,\n",
       "       -106.57614436, -106.57672928, -106.57793759, -106.5790917 ,\n",
       "       -106.57845564, -106.57790035, -106.57842644, -106.57831571,\n",
       "       -106.57821465, -106.57768714, -106.57825857, -106.57779746,\n",
       "       -106.57848873, -106.57761241, -106.57716061, -106.57643462,\n",
       "       -106.57754977, -106.57650635, -106.57619974, -106.57619515,\n",
       "       -106.576695  , -106.57748203, -106.57748124, -106.57773257,\n",
       "       -106.57771   , -106.57870379, -106.57692674, -106.57671932,\n",
       "       -106.57618727, -106.57702294, -106.57713771, -106.57663991,\n",
       "       -106.57724245, -106.5765163 , -106.57731905, -106.57690192,\n",
       "       -106.57758773, -106.57692181, -106.57669012, -106.57688924,\n",
       "       -106.57705241, -106.57612477, -106.57591096, -106.57627573,\n",
       "       -106.57569322, -106.57647852, -106.57629593, -106.57583165,\n",
       "       -106.5769615 , -106.57637598, -106.57681742, -106.57688342,\n",
       "       -106.57518114, -106.57692191, -106.5770551 , -106.57735478,\n",
       "       -106.57638307, -106.57613499, -106.57626621, -106.57561825,\n",
       "       -106.57560198, -106.5762205 , -106.57722915, -106.57583485,\n",
       "       -106.57785654, -106.57673274, -106.57660921, -106.57578111,\n",
       "       -106.57608239, -106.57586586, -106.57612921, -106.57607833,\n",
       "       -106.57622748, -106.57604017, -106.57717471, -106.57537063,\n",
       "       -106.57505661, -106.57507759, -106.57386253, -106.57642731,\n",
       "       -106.57634556, -106.57646447, -106.57578099, -106.57608311,\n",
       "       -106.57569989, -106.57470178, -106.57393634, -106.57390792,\n",
       "       -106.57409071, -106.57434256, -106.57426782, -106.57382592,\n",
       "       -106.57363244, -106.57393913, -106.57436627, -106.57428684,\n",
       "       -106.57383259, -106.57333921, -106.57378069, -106.57311173,\n",
       "       -106.57296976, -106.57212572, -106.57264265, -106.57255024,\n",
       "       -106.57231486, -106.57144684, -106.57239921, -106.57254262,\n",
       "       -106.57260892, -106.57324666, -106.57362727, -106.57323334,\n",
       "       -106.57362726, -106.57366579, -106.57333801, -106.57440125,\n",
       "       -106.57364849, -106.57419033, -106.5742723 , -106.57486893,\n",
       "       -106.57494148, -106.57557603, -106.57660522, -106.57640523,\n",
       "       -106.57653103, -106.57604634, -106.57610963, -106.57628731,\n",
       "       -106.5763202 , -106.57644159, -106.57628081, -106.57604463,\n",
       "       -106.57648469, -106.57663848, -106.57645993, -106.57612126,\n",
       "       -106.57601303, -106.57601569, -106.57575178, -106.5762107 ,\n",
       "       -106.57751604, -106.5784919 , -106.57839575, -106.57853737,\n",
       "       -106.5779565 , -106.57821402, -106.57857584, -106.57833003,\n",
       "       -106.57751633, -106.57678109, -106.57570824, -106.57598241,\n",
       "       -106.57565634, -106.57608075, -106.57572017, -106.57510415,\n",
       "       -106.57619495, -106.57675902, -106.57671238, -106.57676036,\n",
       "       -106.57731641, -106.57725092, -106.57694255, -106.57656936,\n",
       "       -106.57648366, -106.57662049, -106.57599353, -106.57773359,\n",
       "       -106.5778968 , -106.57784269, -106.57702722, -106.57839916,\n",
       "       -106.57736348, -106.57705857, -106.57733695, -106.57736399,\n",
       "       -106.57813788, -106.5777286 , -106.57784629, -106.57718076,\n",
       "       -106.57705547, -106.57677017, -106.57677799, -106.57669288,\n",
       "       -106.57668   , -106.57539964, -106.57511021, -106.57495378,\n",
       "       -106.57527142, -106.57503481, -106.57500626, -106.57424376,\n",
       "       -106.57398396, -106.57366672, -106.57422316, -106.5743319 ,\n",
       "       -106.57548437, -106.57448907, -106.57523375, -106.57439597,\n",
       "       -106.57548625, -106.57426805, -106.57566616, -106.57528273,\n",
       "       -106.57498497, -106.57518924, -106.57592634, -106.57650451,\n",
       "       -106.57671505, -106.57703944, -106.5763096 , -106.57663471,\n",
       "       -106.57692877, -106.57668   , -106.57604246, -106.57671363,\n",
       "       -106.5767687 , -106.57703899, -106.57704712, -106.57764702,\n",
       "       -106.57738545, -106.57721568, -106.57811432, -106.57848031,\n",
       "       -106.57855723, -106.57858471, -106.5782428 , -106.57818064,\n",
       "       -106.57785694, -106.57889603, -106.57754867, -106.57778754,\n",
       "       -106.57701662, -106.57745802, -106.5774176 , -106.57692703,\n",
       "       -106.57770041, -106.57768532, -106.57843797, -106.57813833,\n",
       "       -106.57922716, -106.57904153, -106.58031873, -106.57905099,\n",
       "       -106.57831318, -106.57905877, -106.57859446, -106.57900543,\n",
       "       -106.57909486, -106.57884744, -106.5781418 , -106.57820556,\n",
       "       -106.57813254, -106.57756008, -106.57875185, -106.57827705,\n",
       "       -106.57804685, -106.57851742, -106.57808792, -106.57840741,\n",
       "       -106.57779658, -106.57720747, -106.57674091, -106.5770266 ,\n",
       "       -106.57730367, -106.57591831, -106.57520868, -106.57448015,\n",
       "       -106.57505051, -106.57418054, -106.57713286, -106.57581503,\n",
       "       -106.57818043, -106.57788144, -106.57801086, -106.57838478,\n",
       "       -106.57742387, -106.57735291, -106.57616381, -106.5761535 ,\n",
       "       -106.57609503, -106.57538198, -106.5764828 , -106.57610218,\n",
       "       -106.57581849, -106.57659752, -106.57737223, -106.57569427,\n",
       "       -106.575327  , -106.57533911, -106.57524859, -106.57497565,\n",
       "       -106.57492966, -106.57449337, -106.57517189, -106.57613738,\n",
       "       -106.57534037, -106.57655003, -106.57523356, -106.57531046,\n",
       "       -106.5751518 , -106.57556737, -106.57557967, -106.57504962,\n",
       "       -106.57550847, -106.57640988, -106.57685232, -106.57624873,\n",
       "       -106.57623663, -106.575306  , -106.57490387, -106.57649835,\n",
       "       -106.57685326, -106.57652879, -106.57738113, -106.57760207,\n",
       "       -106.57726261, -106.57855159, -106.57876183, -106.5790004 ,\n",
       "       -106.57936909, -106.57912154, -106.57824354, -106.57700526,\n",
       "       -106.57759363, -106.57637946, -106.57653713, -106.57519374,\n",
       "       -106.57474238, -106.57492597, -106.57561751, -106.57536705,\n",
       "       -106.57438009, -106.57445881, -106.57456645, -106.57377392,\n",
       "       -106.5745068 , -106.57563004, -106.57504246, -106.57498245,\n",
       "       -106.57399666, -106.57460542, -106.57495823, -106.57535709,\n",
       "       -106.57532258, -106.5748534 , -106.57483795, -106.57459316,\n",
       "       -106.57431845, -106.57541651, -106.57562224, -106.5752991 ,\n",
       "       -106.57520166, -106.57524411, -106.5748813 , -106.57488286,\n",
       "       -106.57542204, -106.57507454, -106.57513579, -106.5747632 ,\n",
       "       -106.57471605, -106.57420807, -106.57444606, -106.57464423,\n",
       "       -106.5749809 , -106.574936  , -106.57523046, -106.57420769,\n",
       "       -106.57526925, -106.57532002, -106.57545954, -106.5755855 ,\n",
       "       -106.57499477, -106.57451908, -106.57684495, -106.57657262,\n",
       "       -106.57671205, -106.57850112, -106.5795048 , -106.5789894 ,\n",
       "       -106.57911733, -106.57941547, -106.57898362, -106.57974819,\n",
       "       -106.57885719, -106.57875533, -106.57894318, -106.57824188,\n",
       "       -106.5787313 , -106.57912966, -106.57973698, -106.57856584,\n",
       "       -106.57821339, -106.57835448, -106.57867611, -106.57881994,\n",
       "       -106.57764914, -106.57828715, -106.57825594, -106.5784035 ,\n",
       "       -106.5795946 , -106.57909096, -106.57886685, -106.57856088,\n",
       "       -106.57823576, -106.57769808, -106.57747681, -106.57726065,\n",
       "       -106.57710939, -106.57791827, -106.57795009, -106.57780056,\n",
       "       -106.57777355, -106.57789097, -106.57894954, -106.57937232,\n",
       "       -106.57966668, -106.57946999, -106.5799023 , -106.57926256,\n",
       "       -106.58006191, -106.57914282, -106.57942012, -106.57830794,\n",
       "       -106.57970891, -106.57918516, -106.57826017, -106.57713842,\n",
       "       -106.57857964, -106.57911143, -106.57812686, -106.57904207,\n",
       "       -106.57809556, -106.57735165, -106.5776588 , -106.57865299,\n",
       "       -106.57872268, -106.57981202, -106.57804682, -106.57726219,\n",
       "       -106.57708936, -106.5770827 , -106.57557882, -106.57624422,\n",
       "       -106.57685176, -106.57633483, -106.57603218, -106.57577537,\n",
       "       -106.57635022, -106.57715797, -106.57772999, -106.57817454,\n",
       "       -106.57829757, -106.57812958, -106.57746437, -106.57755725,\n",
       "       -106.57797511, -106.57787635, -106.57650335, -106.57633504,\n",
       "       -106.57607381, -106.57534497, -106.5753411 , -106.57563057,\n",
       "       -106.57525382, -106.5767788 , -106.57616564, -106.57681154,\n",
       "       -106.57627349, -106.57621014, -106.57631703, -106.5766894 ,\n",
       "       -106.57538174, -106.57531116, -106.576248  , -106.57625845,\n",
       "       -106.57679282, -106.57657832, -106.57563125, -106.57621008,\n",
       "       -106.5761739 , -106.57540215, -106.57514669, -106.57521862,\n",
       "       -106.57596908, -106.57481818, -106.57412402, -106.57484397,\n",
       "       -106.57368266, -106.57434528, -106.57363412, -106.57465641,\n",
       "       -106.57448403, -106.57491081, -106.57509859, -106.57506925,\n",
       "       -106.57415245, -106.57286106, -106.57437939, -106.57411665,\n",
       "       -106.57478211, -106.5748804 , -106.57472224, -106.57496962,\n",
       "       -106.57479646, -106.57443004, -106.57375771, -106.57448   ,\n",
       "       -106.57386993, -106.5736719 , -106.57394386, -106.57496668,\n",
       "       -106.57390341, -106.57579574, -106.5752588 , -106.57468532,\n",
       "       -106.57477687, -106.57533365, -106.57480782, -106.57591976,\n",
       "       -106.57596153, -106.57525273, -106.57604495, -106.5750293 ,\n",
       "       -106.57521163, -106.57427104, -106.57458048, -106.57451042,\n",
       "       -106.57592893, -106.575598  , -106.57494841, -106.5746619 ,\n",
       "       -106.57530118, -106.57512817, -106.57486078, -106.57439487,\n",
       "       -106.57360638, -106.57471613, -106.57549848, -106.57596277,\n",
       "       -106.57535576, -106.57528088, -106.57527528, -106.57497969,\n",
       "       -106.57483606, -106.57502125, -106.57562439, -106.57597201,\n",
       "       -106.57553999, -106.57555115, -106.57496927, -106.57573238,\n",
       "       -106.57666743, -106.57688437, -106.57693461, -106.57683967,\n",
       "       -106.57593041, -106.57708865, -106.57766453, -106.57785423,\n",
       "       -106.57851095, -106.5777815 , -106.57854079, -106.57787582,\n",
       "       -106.57794763, -106.57836451, -106.57797825, -106.57899509,\n",
       "       -106.57792273, -106.57874372, -106.57850299, -106.5791954 ,\n",
       "       -106.57861324, -106.5785258 , -106.57760198, -106.57809707,\n",
       "       -106.57907836, -106.5775199 , -106.57763412, -106.57820566,\n",
       "       -106.57880985, -106.5797696 , -106.57989675, -106.57992587,\n",
       "       -106.58012301, -106.57974224, -106.58009226, -106.58047054,\n",
       "       -106.58013007, -106.58102676, -106.58111523, -106.58186287,\n",
       "       -106.5813438 , -106.58004226, -106.58025653, -106.57995466,\n",
       "       -106.57973476, -106.5795746 , -106.57977671, -106.58002755,\n",
       "       -106.58077669, -106.579041  , -106.57927376, -106.57926329,\n",
       "       -106.58010489, -106.57907206, -106.57886186, -106.57887798,\n",
       "       -106.57964742, -106.57896135, -106.57868232, -106.579134  ,\n",
       "       -106.57858351, -106.57847661, -106.57943732, -106.57935916,\n",
       "       -106.57896633, -106.57879377, -106.57796302, -106.57804433,\n",
       "       -106.57762587, -106.57746646, -106.57807631, -106.57929254,\n",
       "       -106.57932316, -106.57914083, -106.57925945, -106.57973475,\n",
       "       -106.57929993, -106.57775984, -106.57782166, -106.57794049,\n",
       "       -106.57889392, -106.57831341, -106.57848138, -106.57922619,\n",
       "       -106.57891242, -106.57906935, -106.57828133, -106.57912979,\n",
       "       -106.58027844, -106.58016188, -106.57896501, -106.57790674,\n",
       "       -106.57815277, -106.57821476, -106.57721981, -106.57747313,\n",
       "       -106.57685051, -106.57757084, -106.57664263, -106.57614233,\n",
       "       -106.57519165, -106.57507486, -106.57488421, -106.57536548,\n",
       "       -106.57494005, -106.57448957, -106.57405969, -106.5748177 ,\n",
       "       -106.57496372, -106.57405989, -106.57439656, -106.5737133 ,\n",
       "       -106.57334934, -106.57415958, -106.57413665, -106.57452039,\n",
       "       -106.5749385 , -106.57347051, -106.57592453, -106.57560339,\n",
       "       -106.57546542, -106.57562972, -106.57574064, -106.57523195,\n",
       "       -106.57511429, -106.57423401, -106.57468096, -106.57520247,\n",
       "       -106.57571341, -106.57615598, -106.57586609, -106.57562306,\n",
       "       -106.57492051, -106.57473537, -106.57485548, -106.57458043,\n",
       "       -106.57404349, -106.57473308, -106.57390478, -106.57528592,\n",
       "       -106.57563996, -106.57635494, -106.57559422, -106.57613212,\n",
       "       -106.57634982, -106.57562089, -106.57677724, -106.57450742,\n",
       "       -106.57344905, -106.57367985, -106.57388247, -106.574407  ,\n",
       "       -106.57445173, -106.57385017, -106.57441605, -106.57421877,\n",
       "       -106.57526004, -106.57557638, -106.57538413, -106.57527162,\n",
       "       -106.57451132, -106.57481537, -106.57395234, -106.57484203,\n",
       "       -106.57557213, -106.57519435, -106.57528765, -106.57447717,\n",
       "       -106.5737941 , -106.57615698, -106.57501219, -106.57572592,\n",
       "       -106.57594595, -106.57555455, -106.57613005, -106.57450029,\n",
       "       -106.57454937, -106.5743569 , -106.57435653, -106.57392309,\n",
       "       -106.57433414, -106.57403985, -106.57399997, -106.57482378,\n",
       "       -106.57495669, -106.57442455, -106.57387709, -106.57417395,\n",
       "       -106.5739383 , -106.57374997, -106.57300268, -106.57348332,\n",
       "       -106.57386995, -106.57313442, -106.57431843, -106.57387728,\n",
       "       -106.57368226, -106.57423945, -106.57380351, -106.5746846 ,\n",
       "       -106.57532659, -106.57504617, -106.57564414, -106.57543469,\n",
       "       -106.57477994, -106.57567389, -106.57562061, -106.57634328,\n",
       "       -106.5764872 , -106.57744702, -106.57791226, -106.57764767,\n",
       "       -106.57787094, -106.57884901, -106.57773569, -106.57719013,\n",
       "       -106.57726321, -106.5774067 , -106.57736783, -106.57713936,\n",
       "       -106.57637897, -106.57687345, -106.57689895, -106.57803507,\n",
       "       -106.57840594, -106.57859633, -106.57824419, -106.57910644,\n",
       "       -106.57931346, -106.57943651, -106.57933427, -106.57891085,\n",
       "       -106.57856317, -106.57762926, -106.57803486, -106.5779779 ,\n",
       "       -106.57764189, -106.5774751 , -106.57741615, -106.57712597,\n",
       "       -106.57800738, -106.57775992, -106.57891545, -106.57874321,\n",
       "       -106.57854071, -106.57822794, -106.57806425, -106.57780289,\n",
       "       -106.57842401, -106.5777108 , -106.57807915, -106.57726857,\n",
       "       -106.57678118, -106.57674753, -106.57708458, -106.5775477 ,\n",
       "       -106.57728555, -106.57658882, -106.57475411, -106.57463244,\n",
       "       -106.57587855, -106.57634708, -106.57576026, -106.57605884,\n",
       "       -106.57533054, -106.57575999, -106.57601375, -106.57694488,\n",
       "       -106.5758696 , -106.57713283, -106.57609696, -106.57628574,\n",
       "       -106.57662077, -106.57549633, -106.57643371, -106.57633444,\n",
       "       -106.57598848, -106.57538616, -106.57713253, -106.57713458,\n",
       "       -106.57780552, -106.57803203, -106.57820684, -106.57801778,\n",
       "       -106.57744359, -106.57701362, -106.57851505, -106.5778261 ,\n",
       "       -106.5778951 , -106.57838702, -106.57868545, -106.5784065 ,\n",
       "       -106.57834818, -106.57869894, -106.57827638, -106.57822314,\n",
       "       -106.57862817, -106.57892848, -106.57916728, -106.57900833,\n",
       "       -106.57834387, -106.57809123, -106.57787687, -106.57762498,\n",
       "       -106.57796818, -106.57905472, -106.57917179, -106.57855877,\n",
       "       -106.57826823, -106.57887244, -106.58007311, -106.57964729,\n",
       "       -106.579197  , -106.57842215, -106.57782086, -106.57749204,\n",
       "       -106.57738794, -106.57748828, -106.57831539, -106.57864692,\n",
       "       -106.57838434, -106.57676228, -106.57629134, -106.57639763,\n",
       "       -106.5767136 , -106.57718935, -106.57810009, -106.57801138,\n",
       "       -106.5789199 , -106.57877164, -106.57934055, -106.5791475 ,\n",
       "       -106.57810284, -106.57896004, -106.57885974, -106.57839878,\n",
       "       -106.5788919 , -106.57730542, -106.57782817, -106.5783922 ,\n",
       "       -106.57797773, -106.57761391, -106.5775459 , -106.57656794,\n",
       "       -106.57732921, -106.57696452, -106.57710255, -106.57726378,\n",
       "       -106.57782937, -106.57707059, -106.57696394, -106.57779216,\n",
       "       -106.57691476, -106.57661228, -106.57645006, -106.57746533,\n",
       "       -106.57656404, -106.57613949, -106.57521526, -106.57492628,\n",
       "       -106.5753866 , -106.57647445, -106.57841632, -106.57739449,\n",
       "       -106.57680471, -106.57691618, -106.57605612, -106.57599971,\n",
       "       -106.57614425, -106.5760946 , -106.57679589, -106.57611862,\n",
       "       -106.5766752 , -106.57624973, -106.57662331, -106.57745667,\n",
       "       -106.57836754, -106.57886532, -106.5796454 , -106.57984149,\n",
       "       -106.57856056, -106.57835496, -106.57889044, -106.57864422,\n",
       "       -106.57900479, -106.5801803 , -106.58123542, -106.57956881,\n",
       "       -106.58003402, -106.58031079, -106.57983664, -106.57932278,\n",
       "       -106.5793947 , -106.57939329, -106.57880378, -106.57834568,\n",
       "       -106.57754303, -106.57826752, -106.57868173, -106.57918113,\n",
       "       -106.57935404, -106.57856801, -106.57772239, -106.57754465,\n",
       "       -106.57659178, -106.57605545, -106.57650776, -106.57580442,\n",
       "       -106.57608513, -106.57596527, -106.57688685, -106.57572593,\n",
       "       -106.57546365, -106.57706799, -106.57754401, -106.57747498,\n",
       "       -106.57909126, -106.57898066, -106.57826315, -106.57743856,\n",
       "       -106.57763118, -106.57700058, -106.57711076, -106.57681445,\n",
       "       -106.57625781, -106.57570437, -106.57633689, -106.57731978,\n",
       "       -106.57682723, -106.57590352, -106.57672309, -106.57662585,\n",
       "       -106.5766855 , -106.57641593, -106.57593325, -106.57593325])"
      ]
     },
     "execution_count": 54,
     "metadata": {},
     "output_type": "execute_result"
    }
   ],
   "source": [
    "Theta_hmc[1,:]"
   ]
  },
  {
   "cell_type": "code",
   "execution_count": null,
   "metadata": {},
   "outputs": [],
   "source": []
  }
 ],
 "metadata": {
  "kernelspec": {
   "display_name": "Python 3",
   "language": "python",
   "name": "python3"
  },
  "language_info": {
   "codemirror_mode": {
    "name": "ipython",
    "version": 3
   },
   "file_extension": ".py",
   "mimetype": "text/x-python",
   "name": "python",
   "nbconvert_exporter": "python",
   "pygments_lexer": "ipython3",
   "version": "3.6.5"
  }
 },
 "nbformat": 4,
 "nbformat_minor": 1
}
