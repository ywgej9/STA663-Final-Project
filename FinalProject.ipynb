{
 "cells": [
  {
   "cell_type": "markdown",
   "metadata": {},
   "source": [
    "# Final Project (30%)\n",
    "\n",
    "For the final project, you will need to implement a \"new\" statistical algorithm in Python from the research literature and write a \"paper\" describing the algorithm. \n",
    "\n",
    "Deadline 2nd May 2018 at 11:59 PM\n",
    "\n",
    "Note: 1 bonus point for each day that it is submitted before the deadline. The actual project has a maximum grade of 100, but bonus points can push it above 100.\n",
    "\n",
    "## Paper\n",
    "\n",
    "The paper should have the following:\n",
    "\n",
    "### Title\n",
    "\n",
    "Should be consise and informative.\n",
    "\n",
    "### Abstract\n",
    "\n",
    "250 words or less. Identify 4-6 key phrases.\n",
    "\n",
    "### Background\n",
    "\n",
    "State the research paper you are using. Describe the concept of the algorithm and why it is interesting and/or useful. If appropriate, describe the mathematical basis of the algorithm. Some potential topics for the backgorund include:\n",
    "\n",
    "- What problem does it address? \n",
    "- What are known and possible applications of the algorithm? \n",
    "- What are its advantages and disadvantages relative to other algorithms?\n",
    "- How will you use it in your research?\n",
    "\n",
    "### Description of algorithm\n",
    "\n",
    "First, explain in plain English what the algorithm does. Then describes the details of the algorihtm, using mathematical equations or pseudocode as appropriate. \n",
    "\n",
    "### Describe optimization for performance\n",
    "\n",
    "First implement the algorithm using plain Python in a straightforward way from the description of the algorihtm. Then profile and optimize it using one or more apporpiate mathods, such as:\n",
    "\n",
    "1. Use of better algorithms or data structures\n",
    "2. Use of vectorization\n",
    "3. JIT or AOT compilation of critical functions\n",
    "4. Re-writing critical functions in C++ and using pybind11 to wrap them\n",
    "5. Making use of parallelism or concurrency\n",
    "6. Making use of distributed compuitng\n",
    "\n",
    "Document the improvemnt in performance with the optimizations performed.\n",
    "\n",
    "### Applications to simulated data sets\n",
    "\n",
    "Are there specific inputs that give known outuputs (e.g. there might be closed form solutions for special input cases)? How does the algorithm perform on these? \n",
    "\n",
    "If no such input cases are available (or in addition to such input cases), how does the algorithm perform on simulated data sets for which you know the \"truth\"? \n",
    "\n",
    "### Applications to real data sets\n",
    "\n",
    "Test the algorithm on the real-world examples in the orignal paper if possible. Try to find at least one other real-world data set not in the original paper and test it on that. Describe and interpret the results.\n",
    "\n",
    "### Comparative analysis with competing algorihtms\n",
    "\n",
    "Find two other algorihtms that addresss a similar problem. Perform a comparison - for example, of accurary or speed. You can use native libraires of the other algorithms - you do not need to code them yourself. Comment on your observations. \n",
    "\n",
    "### Discussion/conclusion\n",
    "\n",
    "Your thoughts on the algorithm. Does it fulfill a particular need? How could it be generalized to other problem domains? What are its limiations and how could it be improved further?\n",
    "\n",
    "### References/bibliography\n",
    "\n",
    "Make sure you cite your sources.\n",
    "\n",
    "## Code\n",
    "\n",
    "The code should be in a public GitHub repository with:\n",
    "\n",
    "1. A README file\n",
    "2. An open source license\n",
    "3. Source code\n",
    "4. Test code\n",
    "5. Examples\n",
    "6. A reproducible report\n",
    "\n",
    "The package should be downloadable and installable with `python setup.py install`, or even posted to PyPI adn installable with `pip install package`.\n",
    "\n",
    "\n",
    "## Rubric\n",
    "\n",
    "Each item is worth 10 points, but some sections will give up to 10 bonus points if done really well. Note that the \"difficulty factor\" of the chosen algorithm will be factored into the grading. \n",
    "\n",
    "1. Is the abstract, background and discussion readable and clear? (10-20 points)\n",
    "2. Is the algorithm description clear and accurate? (10-20 points)\n",
    "3. Has the algorihtm been optimized? (10-20 points)\n",
    "4. Are the applicaitons to simulated/real data clear and useful? (10-20 points)\n",
    "5. Was the comarative analysis done well? (10-20 points points)\n",
    "6. Is there a well-maitnatined Github repository for the code? (10 points)\n",
    "7. Is the document show evidenc of literate programming? (10 points)\n",
    "8. Is the analyiss reproducible? (10 points)\n",
    "9. Is the code tested? Are examples provided? (10 points)\n",
    "10. Is the package easily installable? (10 points)\n",
    "\n"
   ]
  },
  {
   "cell_type": "code",
   "execution_count": 23,
   "metadata": {},
   "outputs": [],
   "source": [
    "import numpy as np\n",
    "import pandas as pd\n",
    "import scipy.stats\n",
    "import scipy.linalg\n",
    "from sklearn import datasets, linear_model\n",
    "from sklearn.linear_model import LinearRegression\n",
    "import matplotlib.pyplot as plt\n",
    "import numba\n",
    "from numba import jit\n",
    "import seaborn as sns"
   ]
  },
  {
   "cell_type": "markdown",
   "metadata": {},
   "source": [
    "# The Code"
   ]
  },
  {
   "cell_type": "markdown",
   "metadata": {},
   "source": [
    "### Code for U, Gradient, H functions"
   ]
  },
  {
   "cell_type": "code",
   "execution_count": 24,
   "metadata": {},
   "outputs": [],
   "source": [
    "def U(X, y, theta, theta_p, sig, sig_p):\n",
    "    \"\"\"Compute likelihood function U with vector\"\"\"\n",
    "    return - sum(np.log(scipy.stats.norm.pdf(y, X @ theta, sig))\n",
    "                 -np.log(scipy.stats.multivariate_normal.pdf(theta, mean = theta_p, cov = sig_p)))\n",
    "\n",
    "def grad_U(X, y, theta, theta_p, sig, sig_p_inv):\n",
    "    return -(y - X @ theta).T @ np.eye(X.shape[0]) / (sig**2) @ X + ((theta-theta_p).reshape(-1, 1).T@sig_p_inv).flatten()\n",
    "\n",
    "def H(X, y, theta, sig, r ,U, M_inv, theta_p, sig_p_inv):\n",
    "    '''Hamiltonian function of total energy'''\n",
    "    return U(X, y, theta, theta_p, sig, sig_p_inv) + 0.5 * r.T @ M_inv @ r"
   ]
  },
  {
   "cell_type": "markdown",
   "metadata": {},
   "source": [
    "### Hamiltonian Monte Carlo"
   ]
  },
  {
   "cell_type": "code",
   "execution_count": 33,
   "metadata": {},
   "outputs": [],
   "source": [
    "def hmc(X, y, theta_0, eps, niter, m, M, U, grad_U, sig, theta_p, sig_p):\n",
    "    \"\"\"Hamiltonian Monte Carlo\"\"\"\n",
    "    d = theta_0.shape[0]\n",
    "    Theta = np.empty((d, niter))\n",
    "    R = np.empty((d, niter))\n",
    "    M_inv = scipy.linalg.inv(M)\n",
    "    sig_p_inv = scipy.linalg.inv(sig_p)\n",
    "    theta = theta_0.copy()\n",
    "    a = 0\n",
    "    for i in range(niter):\n",
    "        r = np.random.multivariate_normal(np.zeros(d), M, 1).flatten()\n",
    "        theta_old = theta.copy()\n",
    "        r_old = r.copy()          \n",
    "        #discretize Hamiltonian dynamics\n",
    "        r -= eps / 2 * grad_U(X, y, theta, theta_p, sig, sig_p_inv)\n",
    "        for j in range(m):\n",
    "            theta += eps * M_inv @ r\n",
    "            r -= eps * grad_U(X, y, theta, theta_p, sig, sig_p_inv)\n",
    "        r -= eps / 2 * grad_U(X, y, theta, theta_p, sig, sig_p_inv)\n",
    "        #M-H correction\n",
    "        u = np.random.uniform(0, 1, 1)\n",
    "        rho = np.exp(H(X, y, theta, sig, r ,U, M_inv, theta_p, sig_p_inv) -\n",
    "                     H(X, y, theta_old, sig, r_old ,U, M_inv, theta_p, sig_p_inv))\n",
    "        if u < rho:\n",
    "            Theta[:,i] = theta\n",
    "            R[:,i] = r\n",
    "            a += 1\n",
    "        else:\n",
    "            Theta[:,i] = theta_old\n",
    "            R[:,i] = r_old\n",
    "        theta = Theta[:,i]        \n",
    "    return Theta, R, a"
   ]
  },
  {
   "cell_type": "markdown",
   "metadata": {},
   "source": [
    "### Stochastic gradient HMC"
   ]
  },
  {
   "cell_type": "code",
   "execution_count": 20,
   "metadata": {},
   "outputs": [],
   "source": [
    "def sghmc(X, y, theta_0, eps, niter, m, M, U, grad_U, sig, theta_p, sig_p, perc, C, B_hat):\n",
    "    \"\"\"Stochastic Gradient Hamiltonian Monte Carlo\"\"\"\n",
    "    # theta_0: the starting point\n",
    "    # eps: step length in solving the dynamic system\n",
    "    # niter: the number sampling\n",
    "    # m: the maximum number of steps to take for solving the Hamiltonian\n",
    "    # M: the mass matrix in the Hamiltonian\n",
    "    # perc: the percentage of minbatch size over total size\n",
    "    d = theta_0.shape[0]\n",
    "    batch_size = int(np.floor(X.shape[0] * perc))\n",
    "    Theta = np.empty((d, niter))\n",
    "    R = np.empty((d, niter))\n",
    "    M_inv_eps = scipy.linalg.inv(M) * eps\n",
    "    sig_p_inv = scipy.linalg.inv(sig_p)\n",
    "    theta = theta_0.copy()\n",
    "    M0 = C @ M_inv_eps\n",
    "    V = 2*eps*(C - B_hat)\n",
    "    for i in range(niter):\n",
    "        r = np.random.multivariate_normal(np.zeros(d), M, 1).flatten()      \n",
    "        for j in range(m):\n",
    "            theta += M_inv_eps @ r.flatten()           \n",
    "            idx = np.random.randint(batch_size, size = (batch_size,))\n",
    "            X0 = X[idx, ] #sample X\n",
    "            y0 = y[idx]\n",
    "            r = r - eps * grad_U(X0, y0, theta, theta_p, sig, sig_p_inv) - M0 @ r + np.random.multivariate_normal(np.zeros(d), V, 1).flatten()        \n",
    "        Theta[:,i] = theta\n",
    "        R[:,i] = r\n",
    "        \n",
    "    return Theta, R"
   ]
  },
  {
   "cell_type": "markdown",
   "metadata": {},
   "source": [
    "# Optimization"
   ]
  },
  {
   "cell_type": "markdown",
   "metadata": {},
   "source": [
    "### Using numba"
   ]
  },
  {
   "cell_type": "code",
   "execution_count": 26,
   "metadata": {},
   "outputs": [],
   "source": [
    "@jit\n",
    "def hmc_numba(X, y, theta_0, eps, niter, m, M, U, grad_U, sig, theta_p, sig_p):\n",
    "    \"\"\"Hamiltonian Monte Carlo\"\"\"\n",
    "    d = theta_0.shape[0]\n",
    "    Theta = np.empty((d, niter))\n",
    "    R = np.empty((d, niter))\n",
    "    M_inv = scipy.linalg.inv(M)\n",
    "    sig_p_inv = scipy.linalg.inv(sig_p)\n",
    "    theta = theta_0.copy()\n",
    "    a = 0\n",
    "    for i in range(niter):\n",
    "        r = np.random.multivariate_normal(np.zeros(d), M, 1).flatten()\n",
    "        theta_old = theta.copy()\n",
    "        r_old = r.copy()          \n",
    "        #discretize Hamiltonian dynamics\n",
    "        r -= eps / 2 * grad_U(X, y, theta, theta_p, sig, sig_p_inv)\n",
    "        for j in range(m):\n",
    "            theta += eps * M_inv @ r\n",
    "            r -= eps * grad_U(X, y, theta, theta_p, sig, sig_p_inv)\n",
    "        r -= eps / 2 * grad_U(X, y, theta, theta_p, sig, sig_p_inv)\n",
    "        #M-H correction\n",
    "        u = np.random.uniform(0, 1, 1)\n",
    "        rho = np.exp(H(X, y, theta, sig, r ,U, M_inv, theta_p, sig_p_inv) -\n",
    "                     H(X, y, theta_old, sig, r_old ,U, M_inv, theta_p, sig_p_inv))\n",
    "        if u < rho:\n",
    "            Theta[:,i] = theta\n",
    "            R[:,i] = r\n",
    "            a += 1\n",
    "        else:\n",
    "            Theta[:,i] = theta_old\n",
    "            R[:,i] = r_old\n",
    "        theta = Theta[:,i]        \n",
    "    return Theta, R, a"
   ]
  },
  {
   "cell_type": "markdown",
   "metadata": {},
   "source": [
    "# Application to Simulated Dataset"
   ]
  },
  {
   "cell_type": "code",
   "execution_count": 27,
   "metadata": {},
   "outputs": [],
   "source": [
    "# data simulation\n",
    "mu_1 = 0\n",
    "sigma_1 = 1\n",
    "mu_2 = 5\n",
    "sigma_2 = 3\n",
    "mu_3 = 7\n",
    "sigma_3 = 3\n",
    "n = 100\n",
    "x_1 = np.random.normal(mu_1, sigma_1, n)\n",
    "x_2 = np.random.normal(mu_2, sigma_2, n)\n",
    "x_3 = np.random.normal(mu_3, sigma_3, n)\n",
    "noise = np.random.normal(0, 5, n)\n",
    "b1 = 5\n",
    "b2 = 3\n",
    "b3 = -2\n",
    "\n",
    "y_sim = b1*x_1 + b2*x_2 + b3*x_3+noise\n",
    "X_sim = np.array([x_1, x_2, x_3]).T\n",
    "\n",
    "d = X_sim.shape[1]\n",
    "theta_0_sim = np.array([3.0, 2.0, -1.0])\n",
    "eps = 0.09\n",
    "niter = 10000\n",
    "M = np.eye(d)\n",
    "m = 3\n",
    "p_sim = 3\n",
    "sig_sim = 5\n",
    "sig_sim2 = sig_sim**2\n",
    "sig_p_sim = np.diag([10.0, 10.0, 10.0])\n",
    "theta_p_sim = np.array([0, 0, 0])\n",
    "Theta_sim, R_sim, a_sim = hmc(X_sim, y_sim, theta_0_sim, eps, niter, m, M, U, grad_U, sig_sim, theta_p_sim, sig_p_sim)"
   ]
  },
  {
   "cell_type": "code",
   "execution_count": 28,
   "metadata": {},
   "outputs": [],
   "source": [
    "## Analytic solution\n",
    "sig_p_sim_inv = scipy.linalg.inv(sig_p_sim)\n",
    "cov_sim_pos = scipy.linalg.inv(sig_p_sim_inv+X_sim.T@X_sim/sig_sim2)\n",
    "mu_sim_pos = cov_sim_pos@(sig_p_sim_inv@theta_0_sim+X_sim.T@y_sim/sig_sim2)"
   ]
  },
  {
   "cell_type": "code",
   "execution_count": 29,
   "metadata": {},
   "outputs": [],
   "source": [
    "d = X_sim.shape[1]\n",
    "theta_0_sim = np.array([3.0, 2.0, -1.0])\n",
    "eps = 0.09\n",
    "niter = 10000\n",
    "M = np.eye(d)\n",
    "m = 3\n",
    "p_sim = 3\n",
    "sig_sim = 5\n",
    "sig_sim2 = sig_sim**2\n",
    "sig_p_sim = np.diag([10.0, 10.0, 10.0])\n",
    "theta_p_sim = np.array([0, 0, 0])\n",
    "perc = 0.3\n",
    "B_hat = 0 # should be a matrix here\n",
    "C = np.eye(d)\n",
    "Theta_sghmc,_ = sghmc(X_sim, y_sim, theta_0_sim, eps, niter, m, M, U, grad_U, sig_sim, theta_p_sim, sig_p_sim, perc, C, B_hat)"
   ]
  },
  {
   "cell_type": "code",
   "execution_count": 34,
   "metadata": {},
   "outputs": [
    {
     "name": "stderr",
     "output_type": "stream",
     "text": [
      "/opt/conda/lib/python3.6/site-packages/matplotlib/axes/_axes.py:6462: UserWarning: The 'normed' kwarg is deprecated, and has been replaced by the 'density' kwarg.\n",
      "  warnings.warn(\"The 'normed' kwarg is deprecated, and has been \"\n"
     ]
    },
    {
     "data": {
      "image/png": "[encoded data removed]",
      "text/plain": [
       "<Figure size 432x288 with 1 Axes>"
      ]
     },
     "metadata": {},
     "output_type": "display_data"
    }
   ],
   "source": [
    "beta_sim_pos = np.random.multivariate_normal(mu_sim_pos, cov_sim_pos, 50000)\n",
    "sns.distplot(beta_sim_pos[:,1], label=\"Analytic\")\n",
    "sns.distplot(Theta_sim[1, :], label=\"HMC\")\n",
    "sns.distplot(Theta_sghmc[1, :], label=\"SGHMC\")\n",
    "plt.legend(labels=['Analytic', 'HMC', 'SGHMC'])\n",
    "plt.savefig(\"simulated_dist_plot\")\n",
    "pass"
   ]
  },
  {
   "cell_type": "markdown",
   "metadata": {},
   "source": [
    "# Application to Diabetes Dataset"
   ]
  },
  {
   "cell_type": "markdown",
   "metadata": {
    "collapsed": true
   },
   "source": [
    "### Setup the dataset"
   ]
  },
  {
   "cell_type": "code",
   "execution_count": 37,
   "metadata": {},
   "outputs": [
    {
     "data": {
      "text/html": [
       "<div>\n",
       "<style scoped>\n",
       "    .dataframe tbody tr th:only-of-type {\n",
       "        vertical-align: middle;\n",
       "    }\n",
       "\n",
       "    .dataframe tbody tr th {\n",
       "        vertical-align: top;\n",
       "    }\n",
       "\n",
       "    .dataframe thead th {\n",
       "        text-align: right;\n",
       "    }\n",
       "</style>\n",
       "<table border=\"1\" class=\"dataframe\">\n",
       "  <thead>\n",
       "    <tr style=\"text-align: right;\">\n",
       "      <th></th>\n",
       "      <th>age</th>\n",
       "      <th>sex</th>\n",
       "      <th>bmi</th>\n",
       "      <th>bp</th>\n",
       "    </tr>\n",
       "  </thead>\n",
       "  <tbody>\n",
       "    <tr>\n",
       "      <th>0</th>\n",
       "      <td>0.038076</td>\n",
       "      <td>0.050680</td>\n",
       "      <td>0.061696</td>\n",
       "      <td>0.021872</td>\n",
       "    </tr>\n",
       "    <tr>\n",
       "      <th>1</th>\n",
       "      <td>-0.001882</td>\n",
       "      <td>-0.044642</td>\n",
       "      <td>-0.051474</td>\n",
       "      <td>-0.026328</td>\n",
       "    </tr>\n",
       "    <tr>\n",
       "      <th>2</th>\n",
       "      <td>0.085299</td>\n",
       "      <td>0.050680</td>\n",
       "      <td>0.044451</td>\n",
       "      <td>-0.005671</td>\n",
       "    </tr>\n",
       "  </tbody>\n",
       "</table>\n",
       "</div>"
      ],
      "text/plain": [
       "        age       sex       bmi        bp\n",
       "0  0.038076  0.050680  0.061696  0.021872\n",
       "1 -0.001882 -0.044642 -0.051474 -0.026328\n",
       "2  0.085299  0.050680  0.044451 -0.005671"
      ]
     },
     "execution_count": 37,
     "metadata": {},
     "output_type": "execute_result"
    }
   ],
   "source": [
    "# Load the diabetes dataset\n",
    "d = datasets.load_diabetes()\n",
    "data = pd.DataFrame(data= np.c_[d['data']],\n",
    "                     columns= d['feature_names'])\n",
    "data = data.iloc[:, 0:4]\n",
    "data.iloc[0:3,:]"
   ]
  },
  {
   "cell_type": "code",
   "execution_count": 38,
   "metadata": {},
   "outputs": [],
   "source": [
    "# Load the diabetes dataset\n",
    "d = datasets.load_diabetes()\n",
    "X = d['data'][:,0:4]\n",
    "y = d['target']\n",
    "n, p = X.shape\n",
    "\n",
    "# Compute the OLS variance\n",
    "reg = LinearRegression().fit(X, y)\n",
    "y_hat = reg.predict(X)\n",
    "sig2 = sum((y - y_hat)**2)/(n - p)\n",
    "sig = np.sqrt(sig2)\n",
    "sig2 = sum((y-y_hat)**2)/(n-p)\n",
    "theta_p = reg.coef_\n",
    "sig_p = np.eye(p)*500"
   ]
  },
  {
   "cell_type": "markdown",
   "metadata": {},
   "source": [
    "### Test for HMC"
   ]
  },
  {
   "cell_type": "code",
   "execution_count": 56,
   "metadata": {},
   "outputs": [],
   "source": [
    "# test for HMC\n",
    "d = X.shape[1]\n",
    "theta_0 = reg.coef_.copy()\n",
    "eps = 0.01\n",
    "niter = 10000\n",
    "M = np.eye(d)\n",
    "m = 3"
   ]
  },
  {
   "cell_type": "code",
   "execution_count": 57,
   "metadata": {},
   "outputs": [],
   "source": [
    "Theta_hmc, R, a = hmc(X, y, theta_0, eps, niter, m, M, U, grad_U, sig, theta_p, sig_p)"
   ]
  },
  {
   "cell_type": "code",
   "execution_count": 106,
   "metadata": {},
   "outputs": [
    {
     "name": "stdout",
     "output_type": "stream",
     "text": [
      "5.64 s ± 298 ms per loop (mean ± std. dev. of 7 runs, 1 loop each)\n",
      "5.35 s ± 122 ms per loop (mean ± std. dev. of 7 runs, 1 loop each)\n"
     ]
    }
   ],
   "source": [
    "%timeit hmc(X, y, theta_0, eps, niter, m, M, U, grad_U, sig, theta_p, sig_p)\n",
    "%timeit hmc_numba(X, y, theta_0, eps, niter, m, M, U, grad_U, sig, theta_p, sig_p)"
   ]
  },
  {
   "cell_type": "markdown",
   "metadata": {},
   "source": [
    "### Test for SG-HMC"
   ]
  },
  {
   "cell_type": "code",
   "execution_count": 58,
   "metadata": {},
   "outputs": [],
   "source": [
    "eps = 1.5\n",
    "niter = 10000\n",
    "M = np.eye(d)\n",
    "m = 7\n",
    "perc = 0.5\n",
    "B_hat = 0 # should be a matrix here\n",
    "C = np.eye(d)*0.01"
   ]
  },
  {
   "cell_type": "code",
   "execution_count": 50,
   "metadata": {},
   "outputs": [],
   "source": [
    "Theta_sghmc, R= sghmc(X, y, theta_0, eps, niter, m, M, U, grad_U, sig, theta_p, sig_p, perc, C, B_hat)"
   ]
  },
  {
   "cell_type": "code",
   "execution_count": 59,
   "metadata": {},
   "outputs": [
    {
     "name": "stderr",
     "output_type": "stream",
     "text": [
      "/opt/conda/lib/python3.6/site-packages/matplotlib/axes/_axes.py:6462: UserWarning: The 'normed' kwarg is deprecated, and has been replaced by the 'density' kwarg.\n",
      "  warnings.warn(\"The 'normed' kwarg is deprecated, and has been \"\n"
     ]
    },
    {
     "data": {
      "image/png": "[encoded data removed]",
      "text/plain": [
       "<Figure size 432x288 with 1 Axes>"
      ]
     },
     "metadata": {},
     "output_type": "display_data"
    }
   ],
   "source": [
    "sig_p_hmc = scipy.linalg.inv(sig_p)\n",
    "cov_pos_hmc = scipy.linalg.inv(sig_p_hmc+X.T@X/sig2)\n",
    "mu_pos_hmc = cov_pos_hmc @ (sig_p_hmc@theta_0+X.T @ y/sig2)\n",
    "beta_pos_hmc = np.random.multivariate_normal(mu_pos_hmc, cov_pos_hmc, 50000)\n",
    "sns.distplot(beta_pos_hmc[:,1], label=\"Analytic\")\n",
    "sns.distplot(Theta_hmc[1, :], label=\"HMC\")\n",
    "sns.distplot(Theta_sghmc[1, :], label=\"SGHMC\")\n",
    "plt.legend(labels=['Analytic', 'HMC', 'SGHMC'])\n",
    "plt.savefig(\"real_plot\")\n",
    "pass"
   ]
  },
  {
   "cell_type": "code",
   "execution_count": null,
   "metadata": {},
   "outputs": [],
   "source": []
  }
 ],
 "metadata": {
  "kernelspec": {
   "display_name": "Python 3",
   "language": "python",
   "name": "python3"
  },
  "language_info": {
   "codemirror_mode": {
    "name": "ipython",
    "version": 3
   },
   "file_extension": ".py",
   "mimetype": "text/x-python",
   "name": "python",
   "nbconvert_exporter": "python",
   "pygments_lexer": "ipython3",
   "version": "3.6.5"
  }
 },
 "nbformat": 4,
 "nbformat_minor": 1
}
